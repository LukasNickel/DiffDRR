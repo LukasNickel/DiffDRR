{
 "cells": [
  {
   "cell_type": "raw",
   "id": "0135d595",
   "metadata": {},
   "source": [
    "---\n",
    "title: Detector (C-Arm)\n",
    "description: Set up the 7 degrees-of-freedom parameters for the C-arm\n",
    "output-file: detector.html\n",
    "---"
   ]
  },
  {
   "cell_type": "code",
   "execution_count": null,
   "id": "f264d14e",
   "metadata": {},
   "outputs": [],
   "source": [
    "#| default_exp detector"
   ]
  },
  {
   "cell_type": "code",
   "execution_count": null,
   "id": "466ed426",
   "metadata": {},
   "outputs": [],
   "source": [
    "#| hide\n",
    "from nbdev.showdoc import *"
   ]
  },
  {
   "cell_type": "code",
   "execution_count": null,
   "id": "b758e4f3",
   "metadata": {},
   "outputs": [],
   "source": [
    "#| export\n",
    "from __future__ import annotations\n",
    "\n",
    "import torch\n",
    "from fastcore.basics import patch\n",
    "from torch.nn.functional import normalize"
   ]
  },
  {
   "cell_type": "raw",
   "id": "37d3ffb6-33ea-4885-80be-f78d3d82f498",
   "metadata": {},
   "source": [
    "::: {.callout-tip}\n",
    "The `Detector` is usually initialized in the `DRR` module and shouldn't need to be called directly.\n",
    ":::"
   ]
  },
  {
   "cell_type": "code",
   "execution_count": null,
   "id": "529b92a4-2f71-4d40-a25f-03cc4bc3eb6b",
   "metadata": {},
   "outputs": [],
   "source": [
    "#| export\n",
    "class Detector(torch.nn.Module):\n",
    "    \"\"\"Construct a 6 DoF X-ray detector system. This model is based on a C-Arm.\"\"\"\n",
    "\n",
    "    def __init__(\n",
    "        self,\n",
    "        sdr: float,  # Source-to-detector radius (half of the source-to-detector distance)\n",
    "        height: int,  # Height of the X-ray detector\n",
    "        width: int,  # Width of the X-ray detector\n",
    "        delx: float,  # Pixel spacing in the X-direction\n",
    "        dely: float,  # Pixel spacing in the Y-direction\n",
    "        x0: float,  # Principal point X-offset\n",
    "        y0: float,  # Principal point Y-offset\n",
    "        n_subsample: int | None = None,  # Number of target points to randomly sample\n",
    "        reverse_x_axis: bool = False,  # If pose includes reflection (in E(3) not SE(3)), reverse x-axis\n",
    "    ):\n",
    "        super().__init__()\n",
    "        self.sdr = sdr\n",
    "        self.height = height\n",
    "        self.width = width\n",
    "        self.delx = delx\n",
    "        self.dely = dely\n",
    "        self.x0 = x0\n",
    "        self.y0 = y0\n",
    "        self.n_subsample = n_subsample\n",
    "        if self.n_subsample is not None:\n",
    "            self.subsamples = []\n",
    "        self.reverse_x_axis = reverse_x_axis\n",
    "\n",
    "        # Initialize the source and detector plane in default positions (along the x-axis)\n",
    "        source, target = self._initialize_carm()\n",
    "        self.register_buffer(\"source\", source)\n",
    "        self.register_buffer(\"target\", target)"
   ]
  },
  {
   "cell_type": "code",
   "execution_count": null,
   "id": "b8ad63f4-0e38-4ea2-87b0-f298639dc9a9",
   "metadata": {},
   "outputs": [],
   "source": [
    "#| export\n",
    "@patch\n",
    "def _initialize_carm(self: Detector):\n",
    "    \"\"\"Initialize the default position for the source and detector plane.\"\"\"\n",
    "    try:\n",
    "        device = self.sdr.device\n",
    "    except AttributeError:\n",
    "        device = torch.device(\"cpu\")\n",
    "    \n",
    "    # Initialize the source on the x-axis and the center of the detector plane on the negative x-axis\n",
    "    source = torch.tensor([[1.0, 0.0, 0.0]], device=device) * self.sdr\n",
    "    center = torch.tensor([[-1.0, 0.0, 0.0]], device=device) * self.sdr\n",
    "\n",
    "    # Use the standard basis for the detector plane\n",
    "    basis = torch.tensor([[0.0, 1.0, 0.0], [0.0, 0.0, 1.0]], device=device)\n",
    "\n",
    "    # Construct the detector plane with different offsets for even or odd heights\n",
    "    h_off = 1.0 if self.height % 2 else 0.5\n",
    "    w_off = 1.0 if self.width % 2 else 0.5\n",
    "\n",
    "    # Construct equally spaced points along the basis vectors\n",
    "    t = (torch.arange(-self.height // 2, self.height // 2, device=device) + h_off) * self.delx\n",
    "    s = (torch.arange(-self.width // 2, self.width // 2, device=device) + w_off) * self.dely\n",
    "    if self.reverse_x_axis:\n",
    "        s = -s\n",
    "    coefs = torch.cartesian_prod(t, s).reshape(-1, 2)\n",
    "    target = torch.einsum(\"cd,nc->nd\", basis, coefs)\n",
    "    target += center\n",
    "\n",
    "    # Batch source and target\n",
    "    source = source.unsqueeze(0)\n",
    "    target = target.unsqueeze(0)\n",
    "\n",
    "    # Apply principal point offset\n",
    "    target[..., 2] -= self.x0\n",
    "    target[..., 1] -= self.y0\n",
    "\n",
    "    if self.n_subsample is not None:\n",
    "        sample = torch.randperm(self.height * self.width)[: int(self.n_subsample)]\n",
    "        target = target[:, sample, :]\n",
    "        self.subsamples.append(sample.tolist())\n",
    "    return source, target"
   ]
  },
  {
   "cell_type": "code",
   "execution_count": null,
   "id": "063d06c3-2618-4282-accd-8fe0ab4d3faa",
   "metadata": {},
   "outputs": [],
   "source": [
    "#| export\n",
    "from diffdrr.utils import Transform3d, convert\n",
    "\n",
    "\n",
    "@patch\n",
    "def forward(\n",
    "    self: Detector,\n",
    "    rotation: torch.Tensor,  # Some (batched) representation of a rotation\n",
    "    translation: torch.Tensor,  # Batch of C-arm translation (bx, by, bz)\n",
    "    parameterization: str,  # Specifies the representation of the rotation\n",
    "    convention: str,  # If parameterization is Euler angles, specify convention\n",
    "):\n",
    "    \"\"\"Create source and target points for X-rays to trace through the volume.\"\"\"\n",
    "    if parameterization == \"euler_angles\" and convention is None:\n",
    "        raise ValueError(\n",
    "            \"convention for Euler angles must be specified as a 3 letter combination of [X, Y, Z]\"\n",
    "        )\n",
    "\n",
    "    # Convert rotation representation to a rotation matrix, R\n",
    "    # Transpose R to convert to right-handed convention for PyTorch3D\n",
    "    R = convert(rotation, parameterization, \"matrix\", input_convention=convention)\n",
    "    R = R.transpose(-1, -2)\n",
    "    t = Transform3d(device=rotation.device).rotate(R).translate(translation)\n",
    "    source, target = make_xrays(t, self.source, self.target)\n",
    "    return source, target"
   ]
  },
  {
   "cell_type": "code",
   "execution_count": null,
   "id": "ea7ffb2f-20a3-4e2d-a04f-d9151f5c6137",
   "metadata": {},
   "outputs": [],
   "source": [
    "#| exporti\n",
    "def make_xrays(t: Transform3d, source: torch.Tensor, target: torch.Tensor):\n",
    "    source = t.transform_points(source)\n",
    "    target = t.transform_points(target)\n",
    "    return source, target"
   ]
  },
  {
   "cell_type": "code",
   "execution_count": null,
   "id": "13e35b1b-13d1-4067-b96c-ecf0b2045d94",
   "metadata": {},
   "outputs": [],
   "source": [
    "#| export\n",
    "def diffdrr_to_deepdrr(euler_angles):\n",
    "    alpha, beta, gamma = euler_angles.unbind(-1)\n",
    "    return torch.stack([beta, alpha, gamma], dim=1)"
   ]
  },
  {
   "cell_type": "code",
   "execution_count": null,
   "id": "ceeefd04",
   "metadata": {},
   "outputs": [],
   "source": [
    "#| hide\n",
    "import nbdev\n",
    "\n",
    "nbdev.nbdev_export()"
   ]
  },
  {
   "cell_type": "code",
   "execution_count": null,
   "id": "46ed11e0-ac81-43d4-aa6c-551891a9a722",
   "metadata": {},
   "outputs": [],
   "source": []
  }
 ],
 "metadata": {
  "kernelspec": {
   "display_name": "python3",
   "language": "python",
   "name": "python3"
  },
  "widgets": {
   "application/vnd.jupyter.widget-state+json": {
    "state": {},
    "version_major": 2,
    "version_minor": 0
   }
  }
 },
 "nbformat": 4,
 "nbformat_minor": 5
}
