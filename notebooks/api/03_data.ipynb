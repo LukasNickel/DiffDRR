{
 "cells": [
  {
   "cell_type": "raw",
   "id": "bb4bed05",
   "metadata": {},
   "source": [
    "---\n",
    "title: data\n",
    "description: Load DICOM datasets as numpy arrays with voxel dimensions\n",
    "output-file: data.html\n",
    "---"
   ]
  },
  {
   "cell_type": "code",
   "execution_count": null,
   "id": "e9649072",
   "metadata": {},
   "outputs": [],
   "source": [
    "#| default_exp data"
   ]
  },
  {
   "cell_type": "code",
   "execution_count": null,
   "id": "2f87221e",
   "metadata": {},
   "outputs": [],
   "source": [
    "#| hide\n",
    "from nbdev.showdoc import *"
   ]
  },
  {
   "cell_type": "code",
   "execution_count": null,
   "id": "cec0581f",
   "metadata": {},
   "outputs": [],
   "source": [
    "#| export\n",
    "from __future__ import annotations\n",
    "\n",
    "from pathlib import Path\n",
    "\n",
    "import nibabel\n",
    "import numpy as np"
   ]
  },
  {
   "cell_type": "code",
   "execution_count": null,
   "id": "23f6fc6b-5cff-42f8-ad4d-17fae58f5a7e",
   "metadata": {},
   "outputs": [],
   "source": [
    "#| export\n",
    "def read_nifti(filename: Path | str):\n",
    "    \"\"\"Read a NIFTI and return the volume, affine matrix, and voxel spacings.\"\"\"\n",
    "    img = nibabel.load(filename)\n",
    "    volume = img.get_fdata()\n",
    "    affine = img.affine\n",
    "    spacing = img.header.get_zooms()\n",
    "\n",
    "    # If affine matrix has negative spacing, flip axis\n",
    "    for axis in range(volume.ndim):\n",
    "        if affine[axis, axis] < 0:\n",
    "            volume = np.flip(volume, axis)\n",
    "    volume = np.copy(volume)\n",
    "\n",
    "    # Get the origin in world coordinates from the affine matrix\n",
    "    origin = tuple(affine[:3, 3])\n",
    "\n",
    "    return volume, origin, spacing"
   ]
  },
  {
   "cell_type": "code",
   "execution_count": null,
   "id": "126d05d3",
   "metadata": {},
   "outputs": [],
   "source": [
    "#| export\n",
    "def load_example_ct():\n",
    "    \"\"\"Load an example chest CT for demonstration purposes.\"\"\"\n",
    "    datadir = Path(__file__).resolve().parent / \"data\"\n",
    "    filename = datadir / \"cxr.nii\"\n",
    "    return read_nifti(filename)"
   ]
  },
  {
   "cell_type": "code",
   "execution_count": null,
   "id": "e1da1619",
   "metadata": {},
   "outputs": [],
   "source": [
    "# | hide\n",
    "import nbdev\n",
    "\n",
    "nbdev.nbdev_export()"
   ]
  },
  {
   "cell_type": "code",
   "execution_count": null,
   "id": "bdb1d5ad-b6a8-4913-8b52-38f2c48510dd",
   "metadata": {},
   "outputs": [],
   "source": []
  }
 ],
 "metadata": {
  "kernelspec": {
   "display_name": "python3",
   "language": "python",
   "name": "python3"
  },
  "widgets": {
   "application/vnd.jupyter.widget-state+json": {
    "state": {},
    "version_major": 2,
    "version_minor": 0
   }
  }
 },
 "nbformat": 4,
 "nbformat_minor": 5
}
