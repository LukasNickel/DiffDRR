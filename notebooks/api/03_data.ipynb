{
 "cells": [
  {
   "cell_type": "raw",
   "id": "bb4bed05",
   "metadata": {},
   "source": [
    "---\n",
    "title: data\n",
    "description: Load DICOM datasets as numpy arrays with voxel dimensions\n",
    "output-file: data.html\n",
    "---"
   ]
  },
  {
   "cell_type": "code",
   "execution_count": null,
   "id": "e9649072",
   "metadata": {},
   "outputs": [],
   "source": [
    "#| default_exp data"
   ]
  },
  {
   "cell_type": "code",
   "execution_count": null,
   "id": "2f87221e",
   "metadata": {},
   "outputs": [],
   "source": [
    "#| hide\n",
    "from nbdev.showdoc import *"
   ]
  },
  {
   "cell_type": "code",
   "execution_count": null,
   "id": "cec0581f",
   "metadata": {},
   "outputs": [],
   "source": [
    "#| export\n",
    "from __future__ import annotations\n",
    "\n",
    "from pathlib import Path\n",
    "\n",
    "import nibabel as nib\n",
    "import numpy as np\n",
    "import torch"
   ]
  },
  {
   "cell_type": "code",
   "execution_count": null,
   "id": "126d05d3",
   "metadata": {},
   "outputs": [],
   "source": [
    "#| export\n",
    "def load_example_ct(bone_attenuation_multiplier=1.0):\n",
    "    \"\"\"Load an example chest CT for demonstration purposes.\"\"\"\n",
    "    datadir = Path(__file__).resolve().parent / \"data\"\n",
    "    filename = datadir / \"cxr.nii\"\n",
    "    return Subject.from_nifti(filename, bone_attenuation_multiplier)"
   ]
  },
  {
   "cell_type": "code",
   "execution_count": null,
   "id": "e0ad9439-87bd-43b6-8198-a831eea228e3",
   "metadata": {},
   "outputs": [],
   "source": [
    "#| export\n",
    "class Subject:\n",
    "    def __init__(\n",
    "        self,\n",
    "        volume,\n",
    "        affine,\n",
    "        origin,\n",
    "        spacing,\n",
    "        bone_attenuation_multiplier,\n",
    "    ):\n",
    "        self.volume = torch.from_numpy(volume)\n",
    "        self.affine = torch.from_numpy(affine)\n",
    "        self.origin = torch.tensor(origin)\n",
    "        self.spacing = torch.tensor(spacing)\n",
    "        self.density = self.parse_density(self.volume, bone_attenuation_multiplier)\n",
    "        self.bone_attenuation_multiplier = bone_attenuation_multiplier\n",
    "\n",
    "    @staticmethod\n",
    "    def parse_density(volume, bone_attenuation_multiplier):\n",
    "        volume[torch.where(350 < volume)] *= bone_attenuation_multiplier\n",
    "        density = torch.max(\n",
    "            torch.min(\n",
    "                0.001029 * volume + 1.03,\n",
    "                0.0005886 * volume + 1.03,\n",
    "            ),\n",
    "            torch.zeros_like(volume),\n",
    "        )\n",
    "        return density\n",
    "\n",
    "    @staticmethod\n",
    "    def from_nifti(filename: Path | str, bone_attenuation_multiplier=1.0):\n",
    "        # Read the NIFTI volume\n",
    "        img = nib.load(filename)\n",
    "        affine = img.affine\n",
    "        volume = img.get_fdata().astype(np.float32)\n",
    "        spacing = img.header.get_zooms()\n",
    "\n",
    "        # If affine matrix has negative spacing, flip axis\n",
    "        for axis in range(volume.ndim):\n",
    "            if affine[axis, axis] < 0:\n",
    "                volume = np.flip(volume, axis)\n",
    "        volume = np.copy(volume)\n",
    "\n",
    "        # Get the origin in world coordinates from the affine matrix, correcting for negative spacings\n",
    "        corners = np.array([[0, 0, 0, 1], [*volume.shape, 1]])\n",
    "        origin = np.einsum(\"ij, nj -> ni\", affine, corners).min(axis=0)[:3]\n",
    "        origin = tuple(origin.astype(np.float32))\n",
    "        return Subject(volume, affine, origin, spacing, bone_attenuation_multiplier)\n",
    "\n",
    "    @staticmethod\n",
    "    def from_dicom(filename: Path | str, bone_attenuation_multiplier=1.0):\n",
    "        raise NotImplementedError(\n",
    "            \"First use dcm2niix to convert your DICOM: https://github.com/rordenlab/dcm2niix\"\n",
    "        )"
   ]
  },
  {
   "cell_type": "code",
   "execution_count": null,
   "id": "e1da1619",
   "metadata": {},
   "outputs": [],
   "source": [
    "# | hide\n",
    "import nbdev\n",
    "\n",
    "nbdev.nbdev_export()"
   ]
  },
  {
   "cell_type": "code",
   "execution_count": null,
   "id": "bdb1d5ad-b6a8-4913-8b52-38f2c48510dd",
   "metadata": {},
   "outputs": [],
   "source": []
  }
 ],
 "metadata": {
  "kernelspec": {
   "display_name": "python3",
   "language": "python",
   "name": "python3"
  },
  "widgets": {
   "application/vnd.jupyter.widget-state+json": {
    "state": {},
    "version_major": 2,
    "version_minor": 0
   }
  }
 },
 "nbformat": 4,
 "nbformat_minor": 5
}
