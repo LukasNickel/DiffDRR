{
 "cells": [
  {
   "cell_type": "raw",
   "id": "bb4bed05",
   "metadata": {},
   "source": [
    "---\n",
    "title: data\n",
    "description: Load DICOM datasets as numpy arrays with voxel dimensions\n",
    "output-file: data.html\n",
    "---"
   ]
  },
  {
   "cell_type": "code",
   "execution_count": null,
   "id": "e9649072",
   "metadata": {},
   "outputs": [],
   "source": [
    "#| default_exp data"
   ]
  },
  {
   "cell_type": "code",
   "execution_count": null,
   "id": "2f87221e",
   "metadata": {},
   "outputs": [],
   "source": [
    "#| hide\n",
    "from nbdev.showdoc import *"
   ]
  },
  {
   "cell_type": "code",
   "execution_count": null,
   "id": "cec0581f",
   "metadata": {},
   "outputs": [],
   "source": [
    "#| export\n",
    "from __future__ import annotations\n",
    "\n",
    "from pathlib import Path\n",
    "\n",
    "import numpy as np\n",
    "import torch\n",
    "from torchio import LabelMap, ScalarImage, Subject\n",
    "from torchio.transforms.preprocessing import ToCanonical\n",
    "import pandas as pd"
   ]
  },
  {
   "cell_type": "code",
   "execution_count": null,
   "id": "126d05d3",
   "metadata": {},
   "outputs": [],
   "source": [
    "#| export\n",
    "def load_example_ct(labels=None) -> Subject:\n",
    "    \"\"\"Load an example chest CT for demonstration purposes.\"\"\"\n",
    "    datadir = Path(__file__).resolve().parent / \"data\"\n",
    "    filename = datadir / \"cxr.nii.gz\"\n",
    "    labelmap = datadir / \"mask.nii.gz\"\n",
    "    structures = pd.read_csv(datadir / \"structures.csv\")\n",
    "    return read(filename, labelmap, labels, structures=structures)"
   ]
  },
  {
   "cell_type": "code",
   "execution_count": null,
   "id": "9eda997b-6e88-4bb1-bb9f-313302fe3c1c",
   "metadata": {},
   "outputs": [],
   "source": [
    "#| export\n",
    "def read(\n",
    "    filename: str | Path,  # Path to CT volume\n",
    "    labelmap: str | Path = None,  # Path to a labelmap for the CT volume\n",
    "    labels: int | list = None,  # Labels from the mask of structures to render\n",
    "    **kwargs,  # Any additional information to be stored in the torchio.Subject\n",
    ") -> Subject:\n",
    "    \"\"\"\n",
    "    Read an image volume from a variety of formats, and optionally, any\n",
    "    given labelmap for the volume. Converts volume to a RAS+ coordinate\n",
    "    system and moves the volume isocenter to the world origin.\n",
    "    \"\"\"\n",
    "    # Read the volume from a filename\n",
    "    volume = ScalarImage(filename)\n",
    "    density = transform_hu_to_density(volume.data)\n",
    "\n",
    "    # If a labelmap is passed, read the mask\n",
    "    if labelmap is not None:\n",
    "        mask = LabelMap(labelmap)\n",
    "    else:\n",
    "        mask = None\n",
    "\n",
    "    # Package the subject\n",
    "    subject = Subject(\n",
    "        volume=volume,\n",
    "        mask=mask,\n",
    "        density=density,\n",
    "        **kwargs,\n",
    "    )\n",
    "\n",
    "    # Canonicalize the images by converting to RAS+ and moving the\n",
    "    # Subject's isocenter to the origin in world coordinates\n",
    "    subject = canonicalize(subject)\n",
    "\n",
    "    # Apply mask\n",
    "    if labels is not None:\n",
    "        if isinstance(labels, int):\n",
    "            labels = [labels]\n",
    "        mask = torch.any(torch.stack([mask.data.squeeze() == idx for idx in labels]), dim=0)\n",
    "        subject.density = subject.density * mask\n",
    "\n",
    "    return subject"
   ]
  },
  {
   "cell_type": "code",
   "execution_count": null,
   "id": "e20ad014-b2ae-41b9-8b65-e4ca865e19a2",
   "metadata": {},
   "outputs": [],
   "source": [
    "#| exporti\n",
    "def canonicalize(subject):\n",
    "    # Convert to RAS+ coordinate system\n",
    "    subject = ToCanonical()(subject)\n",
    "\n",
    "    # Move the Subject's isocenter to the origin in world coordinates\n",
    "    for image in subject.get_images(intensity_only=False):\n",
    "        isocenter = image.get_center()\n",
    "        Tinv = np.array(\n",
    "            [\n",
    "                [1.0, 0.0, 0.0, -isocenter[0]],\n",
    "                [0.0, 1.0, 0.0, -isocenter[1]],\n",
    "                [0.0, 0.0, 1.0, -isocenter[2]],\n",
    "                [0.0, 0.0, 0.0, 1.0],\n",
    "            ]\n",
    "        )\n",
    "        image.affine = Tinv.dot(image.affine)\n",
    "\n",
    "    return subject"
   ]
  },
  {
   "cell_type": "code",
   "execution_count": null,
   "id": "ba2941e0-cb0d-44c7-9b00-4dad1ced447d",
   "metadata": {},
   "outputs": [],
   "source": [
    "#| exporti\n",
    "def transform_hu_to_density(volume):\n",
    "    volume = volume.to(torch.float32)\n",
    "\n",
    "    air = torch.where(volume <= -800)\n",
    "    soft_tissue = torch.where((-800 < volume) & (volume <= 350))\n",
    "    bone = torch.where(350 < volume)\n",
    "\n",
    "    density = torch.empty_like(volume)\n",
    "    density[air] = volume[soft_tissue].min()\n",
    "    density[soft_tissue] = volume[soft_tissue]\n",
    "    density[bone] = volume[bone]\n",
    "    density -= density.min()\n",
    "    density /= density.max()\n",
    "\n",
    "    return density.squeeze()"
   ]
  },
  {
   "cell_type": "code",
   "execution_count": null,
   "id": "e1da1619",
   "metadata": {},
   "outputs": [],
   "source": [
    "# | hide\n",
    "import nbdev\n",
    "\n",
    "nbdev.nbdev_export()"
   ]
  },
  {
   "cell_type": "code",
   "execution_count": null,
   "id": "9c8a7d9e-2626-4cea-814f-18e17ee1408a",
   "metadata": {},
   "outputs": [],
   "source": []
  }
 ],
 "metadata": {
  "kernelspec": {
   "display_name": "python3",
   "language": "python",
   "name": "python3"
  },
  "widgets": {
   "application/vnd.jupyter.widget-state+json": {
    "state": {},
    "version_major": 2,
    "version_minor": 0
   }
  }
 },
 "nbformat": 4,
 "nbformat_minor": 5
}
