{
 "cells": [
  {
   "cell_type": "raw",
   "id": "604ba171-c496-49b4-871f-28d50cb91c8b",
   "metadata": {},
   "source": [
    "---\n",
    "title: 3D geometry with `PyVista`\n",
    "description: Visualizing X-ray detector geometry\n",
    "output-file: visualization.html\n",
    "skip_exec: True\n",
    "---"
   ]
  },
  {
   "cell_type": "markdown",
   "id": "a6da7edd-3fff-4b04-a5b1-2ba4849096f1",
   "metadata": {},
   "source": [
    "Visualizing the 3D geometry of the X-ray detector in `DiffDRR` can be a helpful sanity check and is useful for debugging. We enable visualization of the `DiffDRR` setup using `PyVista`. The dependencies are `pyvista`, `trame`, and `vtk`.\n",
    "\n",
    "The 3D visualization functions in `DiffDRR` perform the following steps:\n",
    "\n",
    "- Extract a mesh from your CT volume\n",
    "- Plot a pyramid frustum to visualize the camera pose\n",
    "- Plot the detector plane with the DRR embedded as a texture\n",
    "- Draw the principal ray from the X-ray source to the detector plane\n",
    "\n",
    "We currently support the following backends for extracting meshes from CT scans:\n",
    "\n",
    "- [MarchingCubes](https://docs.pyvista.org/version/stable/examples/01-filter/flying_edges.html#marching-cubes)\n",
    "- [SurfaceNets](https://www.kitware.com/really-fast-isocontouring/)\n",
    "\n",
    "In the future, we plan to merge [SurfaceNets](https://www.kitware.com/really-fast-isocontouring/) with [TotalSegmentator](https://github.com/wasserth/TotalSegmentator) such that CT meshes can be rendered from label maps."
   ]
  },
  {
   "cell_type": "raw",
   "id": "243cbb7e-fcce-4214-a642-793bb3d93687",
   "metadata": {},
   "source": [
    "::: {.callout-tip}\n",
    "To use `surface_nets` to extract a mesh, ensure you have installed `pyvista>=0.43` and `vtk>=9.3`. Otherwise, you can use `marching_cubes`, which is slower and produces meshes with holes.\n",
    ":::"
   ]
  },
  {
   "cell_type": "code",
   "execution_count": null,
   "id": "e195330f-e305-4112-a3e5-d25b183c689c",
   "metadata": {},
   "outputs": [],
   "source": [
    "#| code-fold: true\n",
    "import matplotlib.pyplot as plt\n",
    "import pyvista\n",
    "import torch\n",
    "\n",
    "from diffdrr.data import load_example_ct\n",
    "from diffdrr.drr import DRR\n",
    "from diffdrr.pose import convert\n",
    "from diffdrr.visualization import drr_to_mesh, img_to_mesh, plot_drr\n",
    "\n",
    "pyvista.start_xvfb()\n",
    "device = torch.device(\"cuda\" if torch.cuda.is_available() else \"cpu\")\n",
    "\n",
    "# Read in the CT volume\n",
    "subject = load_example_ct()\n",
    "\n",
    "# Initialize the DRR module for generating synthetic X-rays\n",
    "device = torch.device(\"cuda\" if torch.cuda.is_available() else \"cpu\")\n",
    "drr = DRR(subject, sdd=1020.0, height=200, delx=2.0).to(device)"
   ]
  },
  {
   "cell_type": "code",
   "execution_count": null,
   "id": "57672b58-7570-4c7a-8901-884ad80d4074",
   "metadata": {},
   "outputs": [],
   "source": [
    "# Make a pose\n",
    "rot = torch.tensor([[0.0, 0.0, 0.0]], device=device)\n",
    "xyz = torch.tensor([[0.0, 800.0, 0.0]], device=device)\n",
    "pose1 = convert(rot, xyz, parameterization=\"euler_angles\", convention=\"ZXY\")\n",
    "\n",
    "rot = torch.tensor([[torch.pi / 4, torch.pi / 6, 0.0]], device=device)\n",
    "xyz = torch.tensor([[0.0, 0.0, 0.0]], device=device)\n",
    "pose2 = convert(rot, xyz, parameterization=\"euler_angles\", convention=\"ZXY\")\n",
    "\n",
    "pose = pose1.compose(pose2)\n",
    "source, _ = drr.detector(pose)"
   ]
  },
  {
   "cell_type": "code",
   "execution_count": null,
   "id": "2501327b-5a05-4115-9e0d-804bf4441760",
   "metadata": {},
   "outputs": [
    {
     "name": "stderr",
     "output_type": "stream",
     "text": [
      "Performing Labeled Surface Extraction: 100%|█████████████████████████████████████████████████████████████████████████████████████████████████████████████████████████████████████████████████████████████████████████████████████[00:01<00:00]\n",
      "Finding and Labeling Connected Regions.: 100%|███████████████████████████████████████████████████████████████████████████████████████████████████████████████████████████████████████████████████████████████████████████████████[00:00<00:00]\n",
      "Smoothing Mesh using Taubin Smoothing: 100%|█████████████████████████████████████████████████████████████████████████████████████████████████████████████████████████████████████████████████████████████████████████████████████[00:05<00:00]\n",
      "Filling Holes: 100%|█████████████████████████████████████████████████████████████████████████████████████████████████████████████████████████████████████████████████████████████████████████████████████████████████████████████[00:00<00:00]\n",
      "Cleaning: 100%|██████████████████████████████████████████████████████████████████████████████████████████████████████████████████████████████████████████████████████████████████████████████████████████████████████████████████[00:00<00:00]\n"
     ]
    }
   ],
   "source": [
    "# Make a mesh from the CT volume\n",
    "ct = drr_to_mesh(drr, \"surface_nets\", threshold=225, verbose=True)"
   ]
  },
  {
   "cell_type": "code",
   "execution_count": null,
   "id": "06c4fe21-2f1b-41c2-bfa4-e6c438e2f55a",
   "metadata": {},
   "outputs": [],
   "source": [
    "# Make a mesh from the camera and detector plane\n",
    "camera, detector, texture, principal_ray = img_to_mesh(drr, pose)\n",
    "\n",
    "# Make the plot\n",
    "plotter = pyvista.Plotter()\n",
    "plotter.add_mesh(ct)\n",
    "plotter.add_mesh(camera, show_edges=True, line_width=1.5)\n",
    "plotter.add_mesh(principal_ray, color=\"lime\", line_width=3)\n",
    "plotter.add_mesh(detector, texture=texture)\n",
    "\n",
    "\n",
    "# Render the plot\n",
    "plotter.add_axes()\n",
    "plotter.add_bounding_box()\n",
    "\n",
    "# plotter.show()  # If running Jupyter locally\n",
    "# plotter.show(jupyter_backend=\"server\")  # If running Jupyter remotely\n",
    "plotter.export_html(\"render.html\")"
   ]
  },
  {
   "cell_type": "code",
   "execution_count": null,
   "id": "c849f939-f675-4abd-b602-3024494e4535",
   "metadata": {},
   "outputs": [
    {
     "data": {
      "text/html": [
       "\n",
       "        <iframe\n",
       "            width=\"749\"\n",
       "            height=\"500\"\n",
       "            src=\"render.html\"\n",
       "            frameborder=\"0\"\n",
       "            allowfullscreen\n",
       "            \n",
       "        ></iframe>\n",
       "        "
      ],
      "text/plain": [
       "<IPython.lib.display.IFrame>"
      ]
     },
     "execution_count": null,
     "metadata": {},
     "output_type": "execute_result"
    }
   ],
   "source": [
    "from IPython.display import IFrame\n",
    "\n",
    "IFrame(\"render.html\", height=500, width=749)"
   ]
  },
  {
   "cell_type": "code",
   "execution_count": null,
   "id": "a39f1c19-88ad-46fa-af36-95bdb5b6f426",
   "metadata": {},
   "outputs": [],
   "source": []
  }
 ],
 "metadata": {
  "kernelspec": {
   "display_name": "python3",
   "language": "python",
   "name": "python3"
  },
  "widgets": {
   "application/vnd.jupyter.widget-state+json": {
    "state": {},
    "version_major": 2,
    "version_minor": 0
   }
  }
 },
 "nbformat": 4,
 "nbformat_minor": 5
}
